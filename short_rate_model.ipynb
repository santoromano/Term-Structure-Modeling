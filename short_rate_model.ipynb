{
 "cells": [
  {
   "cell_type": "markdown",
   "id": "910def6e-e741-4a88-8dfd-a0f2a453f30f",
   "metadata": {},
   "source": [
    "# Estimating a One-factor (Short-Rate) Model\n",
    "## Based on 2.4.1"
   ]
  },
  {
   "cell_type": "markdown",
   "id": "f37c5ad9-b2ca-4c33-a48b-756ccf3afe02",
   "metadata": {},
   "source": [
    "The model is setup as follows:\n",
    "\n",
    "<center>\n",
    "<font size='4'>\n",
    "\n",
    "$\n",
    "r_t = c + \\alpha r_{t-1} + \\sigma_r e_t \\\\\n",
    "Y_t = a_\\tau + b_\\tau r_t + \\Sigma_y u_t    \n",
    "$\n",
    "    \n",
    "</font>\n",
    "</center>\n",
    "\n",
    "Where the short-rate $ r_t $ is modelled as a AR(1), and the term-structure $ Y_t $ is modelled with the short rate as the single factor. Specifically, $ Y_t $ is a $ \\tau \\times 1 $ vector, where $ \\tau $ denotes the number of tenors modelled. $ e_t $ and $ u_t $ are $ N(0,1) $, $ \\sigma_r $ is the volatility of the short-rate and $ \\Sigma_y $ is the covariance matrix of the term-structure."
   ]
  },
  {
   "cell_type": "code",
   "execution_count": 1,
   "id": "01c6cd17-14aa-4e1e-a0f2-925118eba34e",
   "metadata": {},
   "outputs": [],
   "source": [
    "import pandas as pd\n",
    "import numpy as np\n",
    "import statsmodels.api as sm"
   ]
  },
  {
   "cell_type": "markdown",
   "id": "461e0be9-2493-4ccf-a71f-74068b03cc82",
   "metadata": {},
   "source": [
    "### Data"
   ]
  },
  {
   "cell_type": "markdown",
   "id": "9e928a22-a7e1-4a8b-9f88-1e7f8e84ca1b",
   "metadata": {},
   "source": [
    "Note: below uses textbook data, but next step should be to understand how the yearly yearly curve is interpolated into monthly, and what sort of model/transformaion is applied to go from the daily zero rates to the monthly (transformed) rates"
   ]
  },
  {
   "cell_type": "code",
   "execution_count": 2,
   "id": "a95b2ac5-478f-4b16-a912-b68f49305494",
   "metadata": {},
   "outputs": [],
   "source": [
    "data = pd.read_excel(\"textbook_data.xlsx\", header=3, index_col=0)\n",
    "data = data.filter(regex=\"^US_Y[0-9].*\") # monthly US zero-rates\n",
    "data.columns = data.columns.str.replace('US_Y','y')\n",
    "data.index = data.index.rename(\"Date\")"
   ]
  },
  {
   "cell_type": "code",
   "execution_count": 3,
   "id": "bda04005-a86c-4b2e-9545-7f25e5c7fa18",
   "metadata": {},
   "outputs": [
    {
     "data": {
      "text/html": [
       "<div>\n",
       "<style scoped>\n",
       "    .dataframe tbody tr th:only-of-type {\n",
       "        vertical-align: middle;\n",
       "    }\n",
       "\n",
       "    .dataframe tbody tr th {\n",
       "        vertical-align: top;\n",
       "    }\n",
       "\n",
       "    .dataframe thead th {\n",
       "        text-align: right;\n",
       "    }\n",
       "</style>\n",
       "<table border=\"1\" class=\"dataframe\">\n",
       "  <thead>\n",
       "    <tr style=\"text-align: right;\">\n",
       "      <th></th>\n",
       "      <th>y3</th>\n",
       "      <th>y12</th>\n",
       "      <th>y24</th>\n",
       "      <th>y36</th>\n",
       "      <th>y48</th>\n",
       "      <th>y60</th>\n",
       "      <th>y72</th>\n",
       "      <th>y84</th>\n",
       "      <th>y96</th>\n",
       "      <th>y108</th>\n",
       "      <th>y120</th>\n",
       "    </tr>\n",
       "    <tr>\n",
       "      <th>Date</th>\n",
       "      <th></th>\n",
       "      <th></th>\n",
       "      <th></th>\n",
       "      <th></th>\n",
       "      <th></th>\n",
       "      <th></th>\n",
       "      <th></th>\n",
       "      <th></th>\n",
       "      <th></th>\n",
       "      <th></th>\n",
       "      <th></th>\n",
       "    </tr>\n",
       "  </thead>\n",
       "  <tbody>\n",
       "    <tr>\n",
       "      <th>1975-01-31</th>\n",
       "      <td>6.206589</td>\n",
       "      <td>6.238884</td>\n",
       "      <td>6.670026</td>\n",
       "      <td>6.910766</td>\n",
       "      <td>7.041402</td>\n",
       "      <td>7.120725</td>\n",
       "      <td>7.173689</td>\n",
       "      <td>7.211528</td>\n",
       "      <td>7.239907</td>\n",
       "      <td>7.261980</td>\n",
       "      <td>7.279638</td>\n",
       "    </tr>\n",
       "    <tr>\n",
       "      <th>1975-02-28</th>\n",
       "      <td>6.090830</td>\n",
       "      <td>5.916754</td>\n",
       "      <td>6.278823</td>\n",
       "      <td>6.594526</td>\n",
       "      <td>6.800582</td>\n",
       "      <td>6.934522</td>\n",
       "      <td>7.025900</td>\n",
       "      <td>7.091580</td>\n",
       "      <td>7.140920</td>\n",
       "      <td>7.179310</td>\n",
       "      <td>7.210025</td>\n",
       "    </tr>\n",
       "    <tr>\n",
       "      <th>1975-03-31</th>\n",
       "      <td>6.007056</td>\n",
       "      <td>6.241704</td>\n",
       "      <td>6.757098</td>\n",
       "      <td>7.029764</td>\n",
       "      <td>7.176597</td>\n",
       "      <td>7.265656</td>\n",
       "      <td>7.325112</td>\n",
       "      <td>7.367588</td>\n",
       "      <td>7.399445</td>\n",
       "      <td>7.424224</td>\n",
       "      <td>7.444046</td>\n",
       "    </tr>\n",
       "    <tr>\n",
       "      <th>1975-04-30</th>\n",
       "      <td>6.066437</td>\n",
       "      <td>6.791323</td>\n",
       "      <td>7.412003</td>\n",
       "      <td>7.642909</td>\n",
       "      <td>7.758730</td>\n",
       "      <td>7.828228</td>\n",
       "      <td>7.874560</td>\n",
       "      <td>7.907654</td>\n",
       "      <td>7.932475</td>\n",
       "      <td>7.951780</td>\n",
       "      <td>7.967224</td>\n",
       "    </tr>\n",
       "    <tr>\n",
       "      <th>1975-05-30</th>\n",
       "      <td>5.348095</td>\n",
       "      <td>6.106194</td>\n",
       "      <td>6.781078</td>\n",
       "      <td>7.132689</td>\n",
       "      <td>7.327140</td>\n",
       "      <td>7.446369</td>\n",
       "      <td>7.526196</td>\n",
       "      <td>7.583260</td>\n",
       "      <td>7.626064</td>\n",
       "      <td>7.659356</td>\n",
       "      <td>7.685990</td>\n",
       "    </tr>\n",
       "    <tr>\n",
       "      <th>...</th>\n",
       "      <td>...</td>\n",
       "      <td>...</td>\n",
       "      <td>...</td>\n",
       "      <td>...</td>\n",
       "      <td>...</td>\n",
       "      <td>...</td>\n",
       "      <td>...</td>\n",
       "      <td>...</td>\n",
       "      <td>...</td>\n",
       "      <td>...</td>\n",
       "      <td>...</td>\n",
       "    </tr>\n",
       "    <tr>\n",
       "      <th>2018-08-31</th>\n",
       "      <td>2.102200</td>\n",
       "      <td>2.454839</td>\n",
       "      <td>2.619778</td>\n",
       "      <td>2.681681</td>\n",
       "      <td>2.716117</td>\n",
       "      <td>2.743053</td>\n",
       "      <td>2.767769</td>\n",
       "      <td>2.791431</td>\n",
       "      <td>2.814080</td>\n",
       "      <td>2.835515</td>\n",
       "      <td>2.855561</td>\n",
       "    </tr>\n",
       "    <tr>\n",
       "      <th>2018-09-28</th>\n",
       "      <td>2.191995</td>\n",
       "      <td>2.620719</td>\n",
       "      <td>2.801011</td>\n",
       "      <td>2.866557</td>\n",
       "      <td>2.903993</td>\n",
       "      <td>2.933405</td>\n",
       "      <td>2.959735</td>\n",
       "      <td>2.984103</td>\n",
       "      <td>3.006661</td>\n",
       "      <td>3.027382</td>\n",
       "      <td>3.046260</td>\n",
       "    </tr>\n",
       "    <tr>\n",
       "      <th>2018-10-31</th>\n",
       "      <td>2.275757</td>\n",
       "      <td>2.694127</td>\n",
       "      <td>2.860678</td>\n",
       "      <td>2.915822</td>\n",
       "      <td>2.950248</td>\n",
       "      <td>2.983280</td>\n",
       "      <td>3.017837</td>\n",
       "      <td>3.053180</td>\n",
       "      <td>3.088082</td>\n",
       "      <td>3.121574</td>\n",
       "      <td>3.153050</td>\n",
       "    </tr>\n",
       "    <tr>\n",
       "      <th>2018-11-30</th>\n",
       "      <td>2.530214</td>\n",
       "      <td>2.702162</td>\n",
       "      <td>2.793496</td>\n",
       "      <td>2.821803</td>\n",
       "      <td>2.834710</td>\n",
       "      <td>2.850188</td>\n",
       "      <td>2.872906</td>\n",
       "      <td>2.902211</td>\n",
       "      <td>2.935825</td>\n",
       "      <td>2.971404</td>\n",
       "      <td>3.007089</td>\n",
       "    </tr>\n",
       "    <tr>\n",
       "      <th>2018-12-31</th>\n",
       "      <td>2.710001</td>\n",
       "      <td>2.574298</td>\n",
       "      <td>2.485886</td>\n",
       "      <td>2.462442</td>\n",
       "      <td>2.475207</td>\n",
       "      <td>2.506538</td>\n",
       "      <td>2.545908</td>\n",
       "      <td>2.587294</td>\n",
       "      <td>2.627473</td>\n",
       "      <td>2.664925</td>\n",
       "      <td>2.699133</td>\n",
       "    </tr>\n",
       "  </tbody>\n",
       "</table>\n",
       "<p>528 rows × 11 columns</p>\n",
       "</div>"
      ],
      "text/plain": [
       "                  y3       y12       y24       y36       y48       y60  \\\n",
       "Date                                                                     \n",
       "1975-01-31  6.206589  6.238884  6.670026  6.910766  7.041402  7.120725   \n",
       "1975-02-28  6.090830  5.916754  6.278823  6.594526  6.800582  6.934522   \n",
       "1975-03-31  6.007056  6.241704  6.757098  7.029764  7.176597  7.265656   \n",
       "1975-04-30  6.066437  6.791323  7.412003  7.642909  7.758730  7.828228   \n",
       "1975-05-30  5.348095  6.106194  6.781078  7.132689  7.327140  7.446369   \n",
       "...              ...       ...       ...       ...       ...       ...   \n",
       "2018-08-31  2.102200  2.454839  2.619778  2.681681  2.716117  2.743053   \n",
       "2018-09-28  2.191995  2.620719  2.801011  2.866557  2.903993  2.933405   \n",
       "2018-10-31  2.275757  2.694127  2.860678  2.915822  2.950248  2.983280   \n",
       "2018-11-30  2.530214  2.702162  2.793496  2.821803  2.834710  2.850188   \n",
       "2018-12-31  2.710001  2.574298  2.485886  2.462442  2.475207  2.506538   \n",
       "\n",
       "                 y72       y84       y96      y108      y120  \n",
       "Date                                                          \n",
       "1975-01-31  7.173689  7.211528  7.239907  7.261980  7.279638  \n",
       "1975-02-28  7.025900  7.091580  7.140920  7.179310  7.210025  \n",
       "1975-03-31  7.325112  7.367588  7.399445  7.424224  7.444046  \n",
       "1975-04-30  7.874560  7.907654  7.932475  7.951780  7.967224  \n",
       "1975-05-30  7.526196  7.583260  7.626064  7.659356  7.685990  \n",
       "...              ...       ...       ...       ...       ...  \n",
       "2018-08-31  2.767769  2.791431  2.814080  2.835515  2.855561  \n",
       "2018-09-28  2.959735  2.984103  3.006661  3.027382  3.046260  \n",
       "2018-10-31  3.017837  3.053180  3.088082  3.121574  3.153050  \n",
       "2018-11-30  2.872906  2.902211  2.935825  2.971404  3.007089  \n",
       "2018-12-31  2.545908  2.587294  2.627473  2.664925  2.699133  \n",
       "\n",
       "[528 rows x 11 columns]"
      ]
     },
     "execution_count": 3,
     "metadata": {},
     "output_type": "execute_result"
    }
   ],
   "source": [
    "data"
   ]
  },
  {
   "cell_type": "markdown",
   "id": "2b5ad58e-875b-4c43-a276-c58385ffdf13",
   "metadata": {},
   "source": [
    "### Model Estimation"
   ]
  },
  {
   "cell_type": "markdown",
   "id": "732a3b92-4707-466e-91f1-a597077f0a97",
   "metadata": {},
   "source": [
    "\n",
    "<font size='4'>\n",
    "\n",
    "$$\n",
    "r_t = c + \\alpha r_{t-1} + \\sigma_r e_t \\\\\n",
    "Y_t = a_\\tau + b_\\tau r_t + \\Sigma_y u_t    \n",
    "$$\n",
    "    \n",
    "</font>\n"
   ]
  },
  {
   "cell_type": "markdown",
   "id": "8ef01f84-cb84-494f-a444-35c8825c37c6",
   "metadata": {},
   "source": [
    "In state-space notation:\n",
    "\n",
    "<font size='4'>\n",
    "    The state equation:\n",
    "$$\n",
    "\\begin{bmatrix} r_{t}\\\\ \\iota\\\\ \\end{bmatrix} = \n",
    "    \\begin{bmatrix} \\alpha & c\\\\ 0 & 1\\\\ \\end{bmatrix} \\begin{bmatrix} r_{t-1}\\\\ \\iota\\\\ \\end{bmatrix}  + \\sigma_r e_t\n",
    "$$\n",
    "    \n",
    "    The observation equation:\n",
    "    \n",
    "$$\n",
    "\\begin{bmatrix} y_t\\\\ r_t \\\\ \\iota \\\\ \\end{bmatrix} = \n",
    "    \\begin{bmatrix} b_\\tau & a_\\tau\\\\ 1 & 0\\\\ 0 & 1 \\end{bmatrix} \\begin{bmatrix} r_t\\\\ \\iota\\\\ \\end{bmatrix} + \n",
    "    \\Sigma_y u_t    \n",
    "$$\n",
    "<font>"
   ]
  },
  {
   "cell_type": "markdown",
   "id": "fda32fef-9895-4358-ae62-5b8110f12057",
   "metadata": {},
   "source": [
    "Below setups up the estimation in a simultaneous OLS framework.\n",
    "\n",
    "****need to first estimate the state equation, obatin the estimates, and then stack those onto the observation equation(s), and then estimate it****\n",
    "\n",
    "The state equation is stacked onto the observation equations (which themselves are stacked by tenor), and a vector of coefficients are estimated."
   ]
  },
  {
   "cell_type": "code",
   "execution_count": 4,
   "id": "34449ed7-e529-4686-8407-fd6901b56b5e",
   "metadata": {},
   "outputs": [],
   "source": [
    "# Data prep\n",
    "y = data.iloc[1:]\n",
    "\n",
    "r_t1 = data['y3'].shift(1)\n",
    "r_t1 = sm.add_constant(r_t1).iloc[1:]\n",
    "\n",
    "r_t = data['y3']\n",
    "r_t = sm.add_constant(r_t).iloc[1:]"
   ]
  },
  {
   "cell_type": "code",
   "execution_count": 5,
   "id": "e8c10ec9-0df6-4e7a-90a5-050336748d26",
   "metadata": {},
   "outputs": [],
   "source": [
    "# 1st Step\n",
    "model1 = sm.OLS(r_t, r_t1)\n",
    "results1 = model1.fit()\n",
    "r_t_hat = model1.predict(results1.params, exog=r_t1)[:,1]"
   ]
  },
  {
   "cell_type": "code",
   "execution_count": 6,
   "id": "98a9b13a-2eb5-4699-875b-21e93cae2253",
   "metadata": {},
   "outputs": [],
   "source": [
    "r_t_hat = pd.DataFrame(r_t_hat, columns=['y3_hat'], index=r_t.index)\n",
    "r_t_hat = sm.add_constant(r_t_hat)\n",
    "\n",
    "X = pd.merge(r_t1, pd.concat([r_t_hat]*(11), axis=1, ignore_index=True), on=['Date']) "
   ]
  },
  {
   "cell_type": "code",
   "execution_count": 7,
   "id": "c1527481-c3f5-4c81-aa78-ddc008878e99",
   "metadata": {},
   "outputs": [],
   "source": [
    "const_names = [(i,\"const_\"+str(i)) for i in X.iloc[:,2::2].columns.values]\n",
    "y3_names = [(i,\"y3_hat\"+str(i)) for i in X.iloc[:,3::2].columns.values]\n",
    "X.rename(columns = dict(const_names), inplace=True)\n",
    "X.rename(columns = dict(y3_names), inplace=True)"
   ]
  },
  {
   "cell_type": "code",
   "execution_count": 8,
   "id": "74dfcba8-b88c-46e2-aa69-76736abfc80c",
   "metadata": {},
   "outputs": [],
   "source": [
    "model = sm.OLS(y,X)\n",
    "results = model.fit()"
   ]
  },
  {
   "cell_type": "code",
   "execution_count": 9,
   "id": "bfdc75ed-e204-4169-8858-fc7ba8681ffb",
   "metadata": {},
   "outputs": [],
   "source": [
    "prediction = model.predict(results.params, exog=X)"
   ]
  },
  {
   "cell_type": "code",
   "execution_count": 10,
   "id": "8b2e4676-db12-478e-8f71-a5e528c8cf40",
   "metadata": {},
   "outputs": [],
   "source": [
    "prediction = pd.DataFrame(data = prediction, index=y.index, columns=y.columns)"
   ]
  },
  {
   "cell_type": "markdown",
   "id": "0bc01d80-7253-4e7b-b564-7925ce96f0cd",
   "metadata": {},
   "source": [
    "#### 10-year prediction"
   ]
  },
  {
   "cell_type": "code",
   "execution_count": 11,
   "id": "6f2fa1a0-43bd-4a72-bbd8-53cdc2ee27a2",
   "metadata": {},
   "outputs": [],
   "source": [
    "y120 = y['y120']\n",
    "y120_hat = prediction['y120']\n",
    "\n",
    "plot = pd.merge(y120, y120_hat, on=[\"Date\"])"
   ]
  },
  {
   "cell_type": "code",
   "execution_count": 12,
   "id": "0cb88bb3-bce6-4876-833c-ef6f9f2a746b",
   "metadata": {},
   "outputs": [
    {
     "data": {
      "text/plain": [
       "<AxesSubplot:xlabel='Date'>"
      ]
     },
     "execution_count": 12,
     "metadata": {},
     "output_type": "execute_result"
    },
    {
     "data": {
      "image/png": "[encoded data removed]",
      "text/plain": [
       "<Figure size 432x288 with 1 Axes>"
      ]
     },
     "metadata": {
      "needs_background": "light"
     },
     "output_type": "display_data"
    }
   ],
   "source": [
    "plot.plot()"
   ]
  },
  {
   "cell_type": "markdown",
   "id": "88196344-39cd-4fba-bcc4-65434378bbee",
   "metadata": {},
   "source": [
    "#### 2-year prediction"
   ]
  },
  {
   "cell_type": "code",
   "execution_count": 13,
   "id": "6f85d355-0af1-49ae-a427-d6ab0c6f0d04",
   "metadata": {},
   "outputs": [
    {
     "data": {
      "text/plain": [
       "<AxesSubplot:xlabel='Date'>"
      ]
     },
     "execution_count": 13,
     "metadata": {},
     "output_type": "execute_result"
    },
    {
     "data": {
      "image/png": "[encoded data removed]",
      "text/plain": [
       "<Figure size 432x288 with 1 Axes>"
      ]
     },
     "metadata": {
      "needs_background": "light"
     },
     "output_type": "display_data"
    }
   ],
   "source": [
    "y24 = y['y24']\n",
    "y24_hat = prediction['y24']\n",
    "\n",
    "plot2 = pd.merge(y24, y24_hat, on=[\"Date\"])\n",
    "\n",
    "plot2.plot()"
   ]
  },
  {
   "cell_type": "markdown",
   "id": "f83f4f25-c049-4633-a4ca-d73634572e9e",
   "metadata": {},
   "source": [
    "#### Yield Curve"
   ]
  },
  {
   "cell_type": "code",
   "execution_count": 14,
   "id": "88efc591-a965-4f0d-a4bb-4b6e20cf3a5b",
   "metadata": {},
   "outputs": [
    {
     "data": {
      "text/plain": [
       "<AxesSubplot:>"
      ]
     },
     "execution_count": 14,
     "metadata": {},
     "output_type": "execute_result"
    },
    {
     "data": {
      "image/png": "[encoded data removed]",
      "text/plain": [
       "<Figure size 432x288 with 1 Axes>"
      ]
     },
     "metadata": {
      "needs_background": "light"
     },
     "output_type": "display_data"
    }
   ],
   "source": [
    "yc_pred = prediction.iloc[-1]\n",
    "yc = y.iloc[-1]\n",
    "\n",
    "plot3 = pd.merge(yc, yc_pred, left_index=True, right_index=True)\n",
    "\n",
    "plot3.plot()"
   ]
  },
  {
   "cell_type": "code",
   "execution_count": 16,
   "id": "7d810d48-7c33-4554-ad22-da134c204ead",
   "metadata": {},
   "outputs": [
    {
     "data": {
      "text/plain": [
       "y3      2.546635\n",
       "y12     2.786718\n",
       "y24     3.098295\n",
       "y36     3.382494\n",
       "y48     3.637378\n",
       "y60     3.864013\n",
       "y72     4.064278\n",
       "y84     4.240353\n",
       "y96     4.394492\n",
       "y108    4.528902\n",
       "y120    4.645679\n",
       "Name: 2018-12-31 00:00:00, dtype: float64"
      ]
     },
     "execution_count": 16,
     "metadata": {},
     "output_type": "execute_result"
    }
   ],
   "source": [
    "yc_pred"
   ]
  },
  {
   "cell_type": "markdown",
   "id": "7e3c3f61-072a-4951-ba33-d5d109f375c3",
   "metadata": {},
   "source": [
    "#### Term Structure of Yields"
   ]
  },
  {
   "cell_type": "code",
   "execution_count": 237,
   "id": "87bcdcfc-a1ce-41d5-9a15-693317aaf499",
   "metadata": {},
   "outputs": [
    {
     "data": {
      "text/html": [
       "<div>\n",
       "<style scoped>\n",
       "    .dataframe tbody tr th:only-of-type {\n",
       "        vertical-align: middle;\n",
       "    }\n",
       "\n",
       "    .dataframe tbody tr th {\n",
       "        vertical-align: top;\n",
       "    }\n",
       "\n",
       "    .dataframe thead th {\n",
       "        text-align: right;\n",
       "    }\n",
       "</style>\n",
       "<table border=\"1\" class=\"dataframe\">\n",
       "  <thead>\n",
       "    <tr style=\"text-align: right;\">\n",
       "      <th></th>\n",
       "      <th>y3</th>\n",
       "      <th>y12</th>\n",
       "      <th>y24</th>\n",
       "      <th>y36</th>\n",
       "      <th>y48</th>\n",
       "      <th>y60</th>\n",
       "      <th>y72</th>\n",
       "      <th>y84</th>\n",
       "      <th>y96</th>\n",
       "      <th>y108</th>\n",
       "      <th>y120</th>\n",
       "    </tr>\n",
       "    <tr>\n",
       "      <th>Date</th>\n",
       "      <th></th>\n",
       "      <th></th>\n",
       "      <th></th>\n",
       "      <th></th>\n",
       "      <th></th>\n",
       "      <th></th>\n",
       "      <th></th>\n",
       "      <th></th>\n",
       "      <th></th>\n",
       "      <th></th>\n",
       "      <th></th>\n",
       "    </tr>\n",
       "  </thead>\n",
       "  <tbody>\n",
       "    <tr>\n",
       "      <th>1975-02-28</th>\n",
       "      <td>6.090830</td>\n",
       "      <td>5.916754</td>\n",
       "      <td>6.278823</td>\n",
       "      <td>6.594526</td>\n",
       "      <td>6.800582</td>\n",
       "      <td>6.934522</td>\n",
       "      <td>7.025900</td>\n",
       "      <td>7.091580</td>\n",
       "      <td>7.140920</td>\n",
       "      <td>7.179310</td>\n",
       "      <td>7.210025</td>\n",
       "    </tr>\n",
       "    <tr>\n",
       "      <th>1975-03-31</th>\n",
       "      <td>6.007056</td>\n",
       "      <td>6.241704</td>\n",
       "      <td>6.757098</td>\n",
       "      <td>7.029764</td>\n",
       "      <td>7.176597</td>\n",
       "      <td>7.265656</td>\n",
       "      <td>7.325112</td>\n",
       "      <td>7.367588</td>\n",
       "      <td>7.399445</td>\n",
       "      <td>7.424224</td>\n",
       "      <td>7.444046</td>\n",
       "    </tr>\n",
       "    <tr>\n",
       "      <th>1975-04-30</th>\n",
       "      <td>6.066437</td>\n",
       "      <td>6.791323</td>\n",
       "      <td>7.412003</td>\n",
       "      <td>7.642909</td>\n",
       "      <td>7.758730</td>\n",
       "      <td>7.828228</td>\n",
       "      <td>7.874560</td>\n",
       "      <td>7.907654</td>\n",
       "      <td>7.932475</td>\n",
       "      <td>7.951780</td>\n",
       "      <td>7.967224</td>\n",
       "    </tr>\n",
       "    <tr>\n",
       "      <th>1975-05-30</th>\n",
       "      <td>5.348095</td>\n",
       "      <td>6.106194</td>\n",
       "      <td>6.781078</td>\n",
       "      <td>7.132689</td>\n",
       "      <td>7.327140</td>\n",
       "      <td>7.446369</td>\n",
       "      <td>7.526196</td>\n",
       "      <td>7.583260</td>\n",
       "      <td>7.626064</td>\n",
       "      <td>7.659356</td>\n",
       "      <td>7.685990</td>\n",
       "    </tr>\n",
       "    <tr>\n",
       "      <th>1975-06-30</th>\n",
       "      <td>6.298449</td>\n",
       "      <td>6.760839</td>\n",
       "      <td>7.134859</td>\n",
       "      <td>7.345354</td>\n",
       "      <td>7.464416</td>\n",
       "      <td>7.532246</td>\n",
       "      <td>7.571287</td>\n",
       "      <td>7.594085</td>\n",
       "      <td>7.607667</td>\n",
       "      <td>7.615981</td>\n",
       "      <td>7.621250</td>\n",
       "    </tr>\n",
       "    <tr>\n",
       "      <th>...</th>\n",
       "      <td>...</td>\n",
       "      <td>...</td>\n",
       "      <td>...</td>\n",
       "      <td>...</td>\n",
       "      <td>...</td>\n",
       "      <td>...</td>\n",
       "      <td>...</td>\n",
       "      <td>...</td>\n",
       "      <td>...</td>\n",
       "      <td>...</td>\n",
       "      <td>...</td>\n",
       "    </tr>\n",
       "    <tr>\n",
       "      <th>2018-08-31</th>\n",
       "      <td>2.102200</td>\n",
       "      <td>2.454839</td>\n",
       "      <td>2.619778</td>\n",
       "      <td>2.681681</td>\n",
       "      <td>2.716117</td>\n",
       "      <td>2.743053</td>\n",
       "      <td>2.767769</td>\n",
       "      <td>2.791431</td>\n",
       "      <td>2.814080</td>\n",
       "      <td>2.835515</td>\n",
       "      <td>2.855561</td>\n",
       "    </tr>\n",
       "    <tr>\n",
       "      <th>2018-09-28</th>\n",
       "      <td>2.191995</td>\n",
       "      <td>2.620719</td>\n",
       "      <td>2.801011</td>\n",
       "      <td>2.866557</td>\n",
       "      <td>2.903993</td>\n",
       "      <td>2.933405</td>\n",
       "      <td>2.959735</td>\n",
       "      <td>2.984103</td>\n",
       "      <td>3.006661</td>\n",
       "      <td>3.027382</td>\n",
       "      <td>3.046260</td>\n",
       "    </tr>\n",
       "    <tr>\n",
       "      <th>2018-10-31</th>\n",
       "      <td>2.275757</td>\n",
       "      <td>2.694127</td>\n",
       "      <td>2.860678</td>\n",
       "      <td>2.915822</td>\n",
       "      <td>2.950248</td>\n",
       "      <td>2.983280</td>\n",
       "      <td>3.017837</td>\n",
       "      <td>3.053180</td>\n",
       "      <td>3.088082</td>\n",
       "      <td>3.121574</td>\n",
       "      <td>3.153050</td>\n",
       "    </tr>\n",
       "    <tr>\n",
       "      <th>2018-11-30</th>\n",
       "      <td>2.530214</td>\n",
       "      <td>2.702162</td>\n",
       "      <td>2.793496</td>\n",
       "      <td>2.821803</td>\n",
       "      <td>2.834710</td>\n",
       "      <td>2.850188</td>\n",
       "      <td>2.872906</td>\n",
       "      <td>2.902211</td>\n",
       "      <td>2.935825</td>\n",
       "      <td>2.971404</td>\n",
       "      <td>3.007089</td>\n",
       "    </tr>\n",
       "    <tr>\n",
       "      <th>2018-12-31</th>\n",
       "      <td>2.710001</td>\n",
       "      <td>2.574298</td>\n",
       "      <td>2.485886</td>\n",
       "      <td>2.462442</td>\n",
       "      <td>2.475207</td>\n",
       "      <td>2.506538</td>\n",
       "      <td>2.545908</td>\n",
       "      <td>2.587294</td>\n",
       "      <td>2.627473</td>\n",
       "      <td>2.664925</td>\n",
       "      <td>2.699133</td>\n",
       "    </tr>\n",
       "  </tbody>\n",
       "</table>\n",
       "<p>527 rows × 11 columns</p>\n",
       "</div>"
      ],
      "text/plain": [
       "                  y3       y12       y24       y36       y48       y60  \\\n",
       "Date                                                                     \n",
       "1975-02-28  6.090830  5.916754  6.278823  6.594526  6.800582  6.934522   \n",
       "1975-03-31  6.007056  6.241704  6.757098  7.029764  7.176597  7.265656   \n",
       "1975-04-30  6.066437  6.791323  7.412003  7.642909  7.758730  7.828228   \n",
       "1975-05-30  5.348095  6.106194  6.781078  7.132689  7.327140  7.446369   \n",
       "1975-06-30  6.298449  6.760839  7.134859  7.345354  7.464416  7.532246   \n",
       "...              ...       ...       ...       ...       ...       ...   \n",
       "2018-08-31  2.102200  2.454839  2.619778  2.681681  2.716117  2.743053   \n",
       "2018-09-28  2.191995  2.620719  2.801011  2.866557  2.903993  2.933405   \n",
       "2018-10-31  2.275757  2.694127  2.860678  2.915822  2.950248  2.983280   \n",
       "2018-11-30  2.530214  2.702162  2.793496  2.821803  2.834710  2.850188   \n",
       "2018-12-31  2.710001  2.574298  2.485886  2.462442  2.475207  2.506538   \n",
       "\n",
       "                 y72       y84       y96      y108      y120  \n",
       "Date                                                          \n",
       "1975-02-28  7.025900  7.091580  7.140920  7.179310  7.210025  \n",
       "1975-03-31  7.325112  7.367588  7.399445  7.424224  7.444046  \n",
       "1975-04-30  7.874560  7.907654  7.932475  7.951780  7.967224  \n",
       "1975-05-30  7.526196  7.583260  7.626064  7.659356  7.685990  \n",
       "1975-06-30  7.571287  7.594085  7.607667  7.615981  7.621250  \n",
       "...              ...       ...       ...       ...       ...  \n",
       "2018-08-31  2.767769  2.791431  2.814080  2.835515  2.855561  \n",
       "2018-09-28  2.959735  2.984103  3.006661  3.027382  3.046260  \n",
       "2018-10-31  3.017837  3.053180  3.088082  3.121574  3.153050  \n",
       "2018-11-30  2.872906  2.902211  2.935825  2.971404  3.007089  \n",
       "2018-12-31  2.545908  2.587294  2.627473  2.664925  2.699133  \n",
       "\n",
       "[527 rows x 11 columns]"
      ]
     },
     "execution_count": 237,
     "metadata": {},
     "output_type": "execute_result"
    }
   ],
   "source": [
    "y"
   ]
  },
  {
   "cell_type": "code",
   "execution_count": 252,
   "id": "f300aaca-5719-4978-a223-f2e51198097d",
   "metadata": {},
   "outputs": [],
   "source": [
    "def plottable_3d_info(df: pd.DataFrame):\n",
    "    \"\"\"\n",
    "    Transform Pandas data into a format that's compatible with\n",
    "    Matplotlib's surface and wireframe plotting.\n",
    "    \"\"\"\n",
    "    index = df.index\n",
    "    columns = df.columns\n",
    "\n",
    "    x, y = np.meshgrid(np.arange(len(columns)), np.arange(len(index)))\n",
    "    z = np.array([[df[c][i] for c in columns] for i in index])\n",
    "    \n",
    "    xticks = dict(ticks=np.arange(len(columns)), labels=columns)\n",
    "    yticks = dict(ticks=np.arange(len(index)), labels=index)\n",
    "    \n",
    "    return x, y, z, xticks, yticks"
   ]
  },
  {
   "cell_type": "code",
   "execution_count": 253,
   "id": "776dbcd3-bf35-4cf2-bbf5-a35257677886",
   "metadata": {},
   "outputs": [],
   "source": [
    "### Transform to Matplotlib friendly format.\n",
    "x, y, z, xticks, yticks = plottable_3d_info(y)"
   ]
  },
  {
   "cell_type": "code",
   "execution_count": 326,
   "id": "9b290cc0-fd03-4082-a5b3-78d3f136416e",
   "metadata": {},
   "outputs": [
    {
     "data": {
      "image/png": "[encoded data removed]",
      "text/plain": [
       "<Figure size 864x576 with 2 Axes>"
      ]
     },
     "metadata": {
      "needs_background": "light"
     },
     "output_type": "display_data"
    }
   ],
   "source": [
    "### Set up axes and put data on the surface.\n",
    "fig, axs = plt.subplots(figsize=(12, 8))\n",
    "\n",
    "\n",
    "ax = plt.axes(projection='3d')\n",
    "ax.plot_surface(x, y, z, cmap='viridis')\n",
    "\n",
    "# ax.yaxis_date()\n",
    "\n",
    "ax.set_xlabel('Maturity')\n",
    "ax.set_ylabel('Dates')\n",
    "ax.set_zlabel('Yield (%)')\n",
    "\n",
    "ax.view_init(elev=10, azim=10, vertical_axis='z')\n",
    "plt.xticks(rotation=-45)\n",
    "plt.yticks(rotation=-45)\n",
    "plt.tight_layout()\n",
    "\n",
    "plt.show()"
   ]
  },
  {
   "cell_type": "code",
   "execution_count": null,
   "id": "a32d465a-d3ed-4987-9b24-6553ebc41f54",
   "metadata": {},
   "outputs": [],
   "source": []
  },
  {
   "cell_type": "code",
   "execution_count": 10,
   "id": "2c9d553a-2d4d-44bf-9c81-bf16297ba7af",
   "metadata": {
    "jupyter": {
     "source_hidden": true
    }
   },
   "outputs": [],
   "source": [
    "# Organize Data\n",
    "short_rate = data[[\"y3\"]].copy()\n",
    "date = pd.date_range(start = short_rate.index[0], end = short_rate.index[-1], freq=\"M\")\n",
    "short_rate.index = date\n",
    "\n",
    "y_curve = data.iloc[:,1:].copy()\n",
    "\n",
    "# short_rate, y_curve"
   ]
  },
  {
   "cell_type": "code",
   "execution_count": null,
   "id": "0d2ce862-47d0-4d5c-b34a-6a2f006e9b94",
   "metadata": {
    "jupyter": {
     "source_hidden": true
    }
   },
   "outputs": [],
   "source": []
  },
  {
   "cell_type": "code",
   "execution_count": 5,
   "id": "82dd072c-3909-4c61-97b0-310ffad860a6",
   "metadata": {
    "jupyter": {
     "source_hidden": true
    },
    "tags": []
   },
   "outputs": [
    {
     "ename": "NameError",
     "evalue": "name 'y_curve' is not defined",
     "output_type": "error",
     "traceback": [
      "\u001b[1;31m---------------------------------------------------------------------------\u001b[0m",
      "\u001b[1;31mNameError\u001b[0m                                 Traceback (most recent call last)",
      "Input \u001b[1;32mIn [5]\u001b[0m, in \u001b[0;36m<cell line: 3>\u001b[1;34m()\u001b[0m\n\u001b[0;32m      1\u001b[0m \u001b[38;5;66;03m# Setup the custom state-space model\u001b[39;00m\n\u001b[0;32m      2\u001b[0m starting_values \u001b[38;5;241m=\u001b[39m {\n\u001b[0;32m      3\u001b[0m     \u001b[38;5;124m'\u001b[39m\u001b[38;5;124msigma_r\u001b[39m\u001b[38;5;124m'\u001b[39m: \u001b[38;5;241m0.01\u001b[39m,\n\u001b[1;32m----> 4\u001b[0m     \u001b[38;5;124m'\u001b[39m\u001b[38;5;124mSigma_y\u001b[39m\u001b[38;5;124m'\u001b[39m: np\u001b[38;5;241m.\u001b[39mrepeat(\u001b[38;5;241m0.01\u001b[39m,\u001b[43my_curve\u001b[49m\u001b[38;5;241m.\u001b[39mshape[\u001b[38;5;241m1\u001b[39m]),\n\u001b[0;32m      5\u001b[0m     \u001b[38;5;124m'\u001b[39m\u001b[38;5;124malpha\u001b[39m\u001b[38;5;124m'\u001b[39m : \u001b[38;5;241m1\u001b[39m,\n\u001b[0;32m      6\u001b[0m     \u001b[38;5;124m'\u001b[39m\u001b[38;5;124mc\u001b[39m\u001b[38;5;124m'\u001b[39m : \u001b[38;5;241m0\u001b[39m,\n\u001b[0;32m      7\u001b[0m     \u001b[38;5;124m'\u001b[39m\u001b[38;5;124mb\u001b[39m\u001b[38;5;124m'\u001b[39m : \u001b[38;5;241m1\u001b[39m,\n\u001b[0;32m      8\u001b[0m     \u001b[38;5;124m'\u001b[39m\u001b[38;5;124ma\u001b[39m\u001b[38;5;124m'\u001b[39m : \u001b[38;5;241m1\u001b[39m,\n\u001b[0;32m      9\u001b[0m }\n\u001b[0;32m     11\u001b[0m \u001b[38;5;28;01mclass\u001b[39;00m \u001b[38;5;21;01mOneFactorModel\u001b[39;00m(sm\u001b[38;5;241m.\u001b[39mtsa\u001b[38;5;241m.\u001b[39mstatespace\u001b[38;5;241m.\u001b[39mMLEmodel):\n\u001b[0;32m     12\u001b[0m     \u001b[38;5;28;01mdef\u001b[39;00m \u001b[38;5;21m__init__\u001b[39m(\u001b[38;5;28mself\u001b[39m, Y_t: np\u001b[38;5;241m.\u001b[39marray, r_t: np\u001b[38;5;241m.\u001b[39marray, one_t: np\u001b[38;5;241m.\u001b[39marray):\n",
      "\u001b[1;31mNameError\u001b[0m: name 'y_curve' is not defined"
     ]
    }
   ],
   "source": [
    "# Setup the custom state-space model\n",
    "starting_values = {\n",
    "    'sigma_r': 0.01,\n",
    "    'Sigma_y': np.repeat(0.01,y_curve.shape[1]),\n",
    "    'alpha' : 1,\n",
    "    'c' : 0,\n",
    "    'b' : 1,\n",
    "    'a' : 1,\n",
    "}\n",
    "\n",
    "class OneFactorModel(sm.tsa.statespace.MLEmodel):\n",
    "    def __init__(self, Y_t: np.array, r_t: np.array, one_t: np.array):\n",
    "        \n",
    "        super(OneFactorModel), self.__init__(\n",
    "            endog = np.c_[Y_t, r_t, one_t], k_states = 1, initialization = \"diffuse\"\n",
    "        )\n",
    "        \n",
    "        # Creates Matrices\n",
    "        self.ssm['design'] = np.array([b, a], [1, 0], [0, 1])\n",
    "        self.ssm['transition'] = np.array([alpha, c], [0, 1])\n",
    "        self.ssm[\"selection\"] = np.eye(self.k_states)\n",
    "        \n",
    "        self.position_dict = OrderedDict(\n",
    "            sigma_r=1, Sigma_y=2, alpha=3, c=4, b=5, a=6 \n",
    "        )\n",
    "        self.initial_values = starting_values\n",
    "        self.positive_parameters = slice(0,4)\n",
    "        \n",
    "        \n",
    "    @property\n",
    "    def param_names(self):\n",
    "        return list(self.position_dict.keys())\n",
    "\n",
    "    @property\n",
    "    def start_params(self):\n",
    "        params = np.r_[\n",
    "            self.initial_values['alpha'],\n",
    "            self.initial_values['c'], \n",
    "            self.initial_values['b'],\n",
    "            self.initial_values['a'],\n",
    "        ]\n",
    "        return params\n",
    "\n",
    "\n",
    "    def update(self, params, **kwargs):\n",
    "        params = super(OneFactorModel, self).update(params, **kwargs)\n",
    "\n",
    "        self['design', 0, 0] = params[2]\n",
    "        self['design', 0, 0] = params[3]\n",
    "\n",
    "        self['transition', 0, 0] = params[0]\n",
    "        self['transition', 0, 1] = params[1]"
   ]
  },
  {
   "cell_type": "code",
   "execution_count": 20,
   "id": "0f104f89-5615-4f8e-a0a7-0d8336603b6b",
   "metadata": {
    "jupyter": {
     "source_hidden": true
    }
   },
   "outputs": [],
   "source": [
    "# Chat GPT given above system:\n",
    "class StateSpaceModel(sm.tsa.statespace.MLEModel):\n",
    "    def __init__(self, data, c, alpha, sigma_r, a_tau, b_tau, sigma_y):\n",
    "        # Define the state space matrices\n",
    "        self.c = c\n",
    "        self.alpha = alpha\n",
    "        self.sigma_r = sigma_r\n",
    "        self.a_tau = a_tau\n",
    "        self.b_tau = b_tau\n",
    "        self.sigma_y = sigma_y\n",
    "\n",
    "        self.transition = np.array([[alpha]])\n",
    "        self.state_intercept = np.array([c])\n",
    "        self.selection = np.array([[b_tau]])\n",
    "        self.state_cov = np.array([[sigma_r**2]])\n",
    "        self.obs_intercept = np.array([a_tau])\n",
    "        self.obs_cov = np.array([[sigma_y**2]])\n",
    "\n",
    "        super(StateSpaceModel, self).__init__(data,\n",
    "                                              self.transition, self.state_intercept, \n",
    "                                              self.selection, self.state_cov, self.obs_intercept, self.obs_cov)\n",
    "\n",
    "    def update(self, params, **kwargs):\n",
    "        self.c = params[0]\n",
    "        self.alpha = params[1]\n",
    "        self.sigma_r = params[2]\n",
    "        self.a_tau = params[3]\n",
    "        self.b_tau = params[4]\n",
    "        self.sigma_y = params[5]\n",
    "        self.transition = np.array([[self.alpha]])\n",
    "        self.state_intercept = np.array([self.c])\n",
    "        self.selection = np.array([[self.b_tau]])\n",
    "        self.state_cov = np.array([[self.sigma_r**2]])\n",
    "        self.obs_intercept = np.array([self.a_tau])\n",
    "        self.obs_cov = np.array([[self.sigma_y**2]])\n",
    "\n",
    "    def loglike(self, params):\n",
    "        self.update(params)\n",
    "        return super(StateSpaceModel, self).loglike()"
   ]
  },
  {
   "cell_type": "code",
   "execution_count": 43,
   "id": "42e779c3-4c02-47fa-857e-a011da24f191",
   "metadata": {
    "jupyter": {
     "source_hidden": true
    },
    "tags": []
   },
   "outputs": [
    {
     "ename": "TypeError",
     "evalue": "__init__() takes from 3 to 6 positional arguments but 8 were given",
     "output_type": "error",
     "traceback": [
      "\u001b[1;31m---------------------------------------------------------------------------\u001b[0m",
      "\u001b[1;31mTypeError\u001b[0m                                 Traceback (most recent call last)",
      "Input \u001b[1;32mIn [43]\u001b[0m, in \u001b[0;36m<cell line: 4>\u001b[1;34m()\u001b[0m\n\u001b[0;32m      1\u001b[0m \u001b[38;5;66;03m# Example of using the StateSpaceModel\u001b[39;00m\n\u001b[0;32m      2\u001b[0m data \u001b[38;5;241m=\u001b[39m np\u001b[38;5;241m.\u001b[39mc_[sm\u001b[38;5;241m.\u001b[39madd_constant(y_curve\u001b[38;5;241m.\u001b[39miloc[:,\u001b[38;5;241m0\u001b[39m:\u001b[38;5;241m2\u001b[39m]), sm\u001b[38;5;241m.\u001b[39madd_constant(short_rate)]\n\u001b[1;32m----> 4\u001b[0m mod \u001b[38;5;241m=\u001b[39m \u001b[43mStateSpaceModel\u001b[49m\u001b[43m(\u001b[49m\u001b[43mdata\u001b[49m\u001b[43m,\u001b[49m\u001b[43m \u001b[49m\n\u001b[0;32m      5\u001b[0m \u001b[43m                      \u001b[49m\u001b[43mc\u001b[49m\u001b[38;5;241;43m=\u001b[39;49m\u001b[38;5;241;43m0.1\u001b[39;49m\u001b[43m,\u001b[49m\u001b[43m \u001b[49m\u001b[43malpha\u001b[49m\u001b[38;5;241;43m=\u001b[39;49m\u001b[38;5;241;43m0.05\u001b[39;49m\u001b[43m,\u001b[49m\u001b[43m \u001b[49m\u001b[43msigma_r\u001b[49m\u001b[38;5;241;43m=\u001b[39;49m\u001b[38;5;241;43m0.01\u001b[39;49m\u001b[43m,\u001b[49m\u001b[43m \u001b[49m\u001b[43ma_tau\u001b[49m\u001b[38;5;241;43m=\u001b[39;49m\u001b[38;5;241;43m2\u001b[39;49m\u001b[43m,\u001b[49m\u001b[43m \u001b[49m\u001b[43mb_tau\u001b[49m\u001b[38;5;241;43m=\u001b[39;49m\u001b[38;5;241;43m0.5\u001b[39;49m\u001b[43m,\u001b[49m\u001b[43m \u001b[49m\u001b[43msigma_y\u001b[49m\u001b[38;5;241;43m=\u001b[39;49m\u001b[38;5;241;43m0.02\u001b[39;49m\u001b[43m)\u001b[49m\n\u001b[0;32m      6\u001b[0m res \u001b[38;5;241m=\u001b[39m mod\u001b[38;5;241m.\u001b[39mfit()\n\u001b[0;32m      7\u001b[0m \u001b[38;5;28mprint\u001b[39m(res\u001b[38;5;241m.\u001b[39msummary())\n",
      "Input \u001b[1;32mIn [20]\u001b[0m, in \u001b[0;36mStateSpaceModel.__init__\u001b[1;34m(self, data, c, alpha, sigma_r, a_tau, b_tau, sigma_y)\u001b[0m\n\u001b[0;32m     16\u001b[0m \u001b[38;5;28mself\u001b[39m\u001b[38;5;241m.\u001b[39mobs_intercept \u001b[38;5;241m=\u001b[39m np\u001b[38;5;241m.\u001b[39marray([a_tau])\n\u001b[0;32m     17\u001b[0m \u001b[38;5;28mself\u001b[39m\u001b[38;5;241m.\u001b[39mobs_cov \u001b[38;5;241m=\u001b[39m np\u001b[38;5;241m.\u001b[39marray([[sigma_y\u001b[38;5;241m*\u001b[39m\u001b[38;5;241m*\u001b[39m\u001b[38;5;241m2\u001b[39m]])\n\u001b[1;32m---> 19\u001b[0m \u001b[38;5;28;43msuper\u001b[39;49m\u001b[43m(\u001b[49m\u001b[43mStateSpaceModel\u001b[49m\u001b[43m,\u001b[49m\u001b[43m \u001b[49m\u001b[38;5;28;43mself\u001b[39;49m\u001b[43m)\u001b[49m\u001b[38;5;241;43m.\u001b[39;49m\u001b[38;5;21;43m__init__\u001b[39;49m\u001b[43m(\u001b[49m\u001b[43mdata\u001b[49m\u001b[43m,\u001b[49m\n\u001b[0;32m     20\u001b[0m \u001b[43m                                      \u001b[49m\u001b[38;5;28;43mself\u001b[39;49m\u001b[38;5;241;43m.\u001b[39;49m\u001b[43mtransition\u001b[49m\u001b[43m,\u001b[49m\u001b[43m \u001b[49m\u001b[38;5;28;43mself\u001b[39;49m\u001b[38;5;241;43m.\u001b[39;49m\u001b[43mstate_intercept\u001b[49m\u001b[43m,\u001b[49m\u001b[43m \u001b[49m\n\u001b[0;32m     21\u001b[0m \u001b[43m                                      \u001b[49m\u001b[38;5;28;43mself\u001b[39;49m\u001b[38;5;241;43m.\u001b[39;49m\u001b[43mselection\u001b[49m\u001b[43m,\u001b[49m\u001b[43m \u001b[49m\u001b[38;5;28;43mself\u001b[39;49m\u001b[38;5;241;43m.\u001b[39;49m\u001b[43mstate_cov\u001b[49m\u001b[43m,\u001b[49m\u001b[43m \u001b[49m\u001b[38;5;28;43mself\u001b[39;49m\u001b[38;5;241;43m.\u001b[39;49m\u001b[43mobs_intercept\u001b[49m\u001b[43m,\u001b[49m\u001b[43m \u001b[49m\u001b[38;5;28;43mself\u001b[39;49m\u001b[38;5;241;43m.\u001b[39;49m\u001b[43mobs_cov\u001b[49m\u001b[43m)\u001b[49m\n",
      "\u001b[1;31mTypeError\u001b[0m: __init__() takes from 3 to 6 positional arguments but 8 were given"
     ]
    }
   ],
   "source": [
    "# Example of using the StateSpaceModel\n",
    "data = np.c_[sm.add_constant(y_curve.iloc[:,0:2]), sm.add_constant(short_rate)]\n",
    "\n",
    "mod = StateSpaceModel(data, \n",
    "                      c=0.1, alpha=0.05, sigma_r=0.01, a_tau=2, b_tau=0.5, sigma_y=0.02)\n",
    "res = mod.fit()\n",
    "print(res.summary())"
   ]
  },
  {
   "cell_type": "code",
   "execution_count": null,
   "id": "ea238c97-e8af-4646-a724-c5d8530fe57b",
   "metadata": {},
   "outputs": [],
   "source": []
  },
  {
   "cell_type": "markdown",
   "id": "ed342f03-aa48-4faf-8e65-4a8f12092bd0",
   "metadata": {},
   "source": [
    "### Results"
   ]
  },
  {
   "cell_type": "code",
   "execution_count": null,
   "id": "ce6aa423-a415-4c30-83d7-e2854f138f95",
   "metadata": {},
   "outputs": [],
   "source": []
  },
  {
   "cell_type": "code",
   "execution_count": null,
   "id": "ae1d9fa5-2461-428e-aea2-bc6f499119a2",
   "metadata": {},
   "outputs": [],
   "source": []
  },
  {
   "cell_type": "code",
   "execution_count": null,
   "id": "7553d77f-97a2-448a-a7dd-48b8e0c510e5",
   "metadata": {},
   "outputs": [],
   "source": []
  }
 ],
 "metadata": {
  "kernelspec": {
   "display_name": "Python 3 (ipykernel)",
   "language": "python",
   "name": "python3"
  },
  "language_info": {
   "codemirror_mode": {
    "name": "ipython",
    "version": 3
   },
   "file_extension": ".py",
   "mimetype": "text/x-python",
   "name": "python",
   "nbconvert_exporter": "python",
   "pygments_lexer": "ipython3",
   "version": "3.9.12"
  }
 },
 "nbformat": 4,
 "nbformat_minor": 5
}
